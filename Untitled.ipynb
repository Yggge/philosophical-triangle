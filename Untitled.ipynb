{
 "cells": [
  {
   "cell_type": "code",
   "execution_count": 10,
   "id": "0f2c2814-5e4e-4810-9d81-0dd2e5961b30",
   "metadata": {},
   "outputs": [
    {
     "data": {
      "application/vnd.jupyter.widget-view+json": {
       "model_id": "c70c6acddc13455f98004da386669122",
       "version_major": 2,
       "version_minor": 0
      },
      "text/plain": [
       "VBox(children=(HBox(children=(FloatSlider(value=0.5, description='Creativity', layout=Layout(width='300px'), m…"
      ]
     },
     "metadata": {},
     "output_type": "display_data"
    }
   ],
   "source": [
    "import matplotlib.pyplot as plt\n",
    "import numpy as np\n",
    "from ipywidgets import FloatSlider, Button, HBox, VBox, Output, Layout\n",
    "\n",
    "# --- Geometry ---\n",
    "A = np.array([0, 0])                          # Creativity\n",
    "C = np.array([0.5, np.sqrt(3)/2])             # Consciousness\n",
    "E = np.array([1, 0])                          # Mastery\n",
    "\n",
    "B = (A + C) / 2\n",
    "D = (C + E) / 2\n",
    "F = (E + A) / 2\n",
    "\n",
    "G = (A + C + E) / 3                           # Centroid (Synthesis)\n",
    "\n",
    "# --- Drawing ---\n",
    "def plot_triangle(creativity_slider, mastery_slider):\n",
    "    # Scale slider [0..1] to λ [0..2/3]\n",
    "    lambda_T = creativity_slider * 2/3\n",
    "    lambda_M = mastery_slider * 2/3\n",
    "    lambda_C = 1 - lambda_T - lambda_M\n",
    "\n",
    "    fig, ax = plt.subplots(figsize=(6, 6))\n",
    "\n",
    "    triangle = np.array([A, C, E, A])\n",
    "    ax.plot(triangle[:, 0], triangle[:, 1], 'k-', lw=2)\n",
    "\n",
    "    ax.text(*A + [-0.05, -0.05], 'Creativity (A)', ha='right', fontsize=10)\n",
    "    ax.text(*C + [0, 0.05], 'Consciousness (C)', ha='center', fontsize=10)\n",
    "    ax.text(*E + [0.05, -0.05], 'Mastery (E)', ha='left', fontsize=10)\n",
    "\n",
    "    ax.plot(*G, 'bo')\n",
    "    ax.text(G[0], G[1] - 0.05, 'Synthesis (G)', color='blue', fontsize=10, ha='center')\n",
    "\n",
    "    epsilon = 1e-6\n",
    "    if lambda_C < -epsilon:\n",
    "        ax.text(0.5, 0.5, '🚫 Sum λ_T + λ_M > 1', ha='center', va='center', color='red', fontsize=14)\n",
    "    else:\n",
    "        P = lambda_T * A + lambda_M * E + lambda_C * C\n",
    "        ax.plot(*P, 'ro')\n",
    "        ax.text(P[0], P[1] + 0.04,\n",
    "                f'Creativity (λ_T): {lambda_T:.2f}\\nMastery (λ_M): {lambda_M:.2f}\\nConsciousness (λ_C): {lambda_C:.2f}',\n",
    "                ha='center', color='red', fontsize=10)\n",
    "\n",
    "        for point in [B, D, F]:\n",
    "            ax.plot([P[0], point[0]], [P[1], point[1]], 'g--', linewidth=2, alpha=0.7)\n",
    "\n",
    "    for name, point in zip(['B', 'D', 'F'], [B, D, F]):\n",
    "        ax.plot(*point, 'ko', markersize=4)\n",
    "        ax.text(*point + [0.02, 0.01], name, fontsize=9)\n",
    "\n",
    "    ax.set_xlim(-0.3, 1.3)\n",
    "    ax.set_ylim(-0.2, 1.2)\n",
    "    ax.set_aspect('equal')\n",
    "    ax.grid(True)\n",
    "    ax.set_title('Philosophical Triangle — Medians Only')\n",
    "    plt.show()\n",
    "\n",
    "# --- Sliders and reset ---\n",
    "slider_T = FloatSlider(\n",
    "    value=0.5, min=0.0, max=1.0, step=0.01,\n",
    "    description='Creativity', tooltip='Human creativity level',\n",
    "    layout=Layout(width='300px')\n",
    ")\n",
    "\n",
    "slider_M = FloatSlider(\n",
    "    value=0.5, min=0.0, max=1.0, step=0.01,\n",
    "    description='Mastery', tooltip='Human mastery level',\n",
    "    layout=Layout(width='300px')\n",
    ")\n",
    "\n",
    "out = Output()\n",
    "\n",
    "def update_plot(*args):\n",
    "    with out:\n",
    "        out.clear_output(wait=True)\n",
    "        plot_triangle(slider_T.value, slider_M.value)\n",
    "\n",
    "slider_T.observe(update_plot, names='value')\n",
    "slider_M.observe(update_plot, names='value')\n",
    "\n",
    "reset_button = Button(description='🔁 Reset (0.5 / 0.5)', button_style='info')\n",
    "\n",
    "def reset_values(b):\n",
    "    slider_T.value = 0.5\n",
    "    slider_M.value = 0.5\n",
    "\n",
    "reset_button.on_click(reset_values)\n",
    "\n",
    "# --- Interface ---\n",
    "display(VBox([HBox([slider_T, slider_M, reset_button]), out]))\n",
    "update_plot()\n"
   ]
  },
  {
   "cell_type": "code",
   "execution_count": null,
   "id": "667d31ca-8609-48f1-a503-6e064dc30bcc",
   "metadata": {},
   "outputs": [],
   "source": []
  }
 ],
 "metadata": {
  "kernelspec": {
   "display_name": "Python 3 (ipykernel)",
   "language": "python",
   "name": "python3"
  },
  "language_info": {
   "codemirror_mode": {
    "name": "ipython",
    "version": 3
   },
   "file_extension": ".py",
   "mimetype": "text/x-python",
   "name": "python",
   "nbconvert_exporter": "python",
   "pygments_lexer": "ipython3",
   "version": "3.13.2"
  }
 },
 "nbformat": 4,
 "nbformat_minor": 5
}
