import matplotlib.pyplot as plt
import numpy as np
from ipywidgets import interact, FloatSlider, Dropdown

# Triangle vertices (equilateral)
A = np.array([0, 0])                          # Creativity
C = np.array([0.5, np.sqrt(3)/2])             # Consciousness
E = np.array([1, 0])                          # Mastery

# Midpoints of triangle sides
B = (A + C) / 2
D = (C + E) / 2
F = (E + A) / 2

# Centroid of the triangle (Synthesis / Masterpiece)
G = (A + C + E) / 3

# Incenter (intersection of angle bisectors)
def incenter(A, B, C):
    a = np.linalg.norm(B - C)
    b = np.linalg.norm(A - C)
    c = np.linalg.norm(A - B)
    return (a * A + b * B + c * C) / (a + b + c)

S = incenter(A, C, E)

def plot_triangle(lambda_T, lambda_M, mode):
    lambda_C = 1 - lambda_T - lambda_M

    fig, ax = plt.subplots(figsize=(6, 6))

    # Draw main triangle
    triangle = np.array([A, C, E, A])
    ax.plot(triangle[:, 0], triangle[:, 1], 'k-', lw=2)

    # Vertex labels
    ax.text(*A + [-0.05, -0.05], 'Creativity (A)', ha='right', fontsize=10)
    ax.text(*C + [0, 0.05], 'Consciousness (C)', ha='center', fontsize=10)
    ax.text(*E + [0.05, -0.05], 'Mastery (E)', ha='left', fontsize=10)

    # Show fixed centroid G (Masterpiece)
    ax.plot(*G, 'bo', label='Synthesis')
    ax.text(G[0], G[1] - 0.05, 'Synthesis (G)', color='blue', fontsize=10, ha='center')

    # Show incenter S (optional, for geometry reference)
    ax.plot(*S, 'mo', label='Incenter (S)', alpha=0.4)
    ax.text(S[0], S[1] + 0.03, 'S (Incenter)', fontsize=8, color='purple', alpha=0.4, ha='center')

    # Movable point based on weights
    if lambda_C < 0 or lambda_C > 1:
        ax.text(0.5, 0.5, '🚫 Outside the triangle\n(λ_T + λ_M > 1)', ha='center', va='center', color='red', fontsize=12)
    else:
        T = A
        M = E
        C_ = C
        P = lambda_T * T + lambda_M * M + lambda_C * C_

        ax.plot(*P, 'ro', label='Movable Point')
        ax.text(P[0], P[1] + 0.04,
                f'λ_T={lambda_T:.2f}, λ_M={lambda_M:.2f}, λ_C={lambda_C:.2f}',
                ha='center', color='red', fontsize=9)

        # Draw lines from point P
        if mode in ['medians', 'all']:
            for point in [B, D, F]:
                ax.plot([P[0], point[0]], [P[1], point[1]], 'g--', linewidth=2, alpha=0.7)

        if mode in ['bisectors', 'all']:
            for point in [A, C, E]:
                ax.plot([P[0], point[0]], [P[1], point[1]], 'm--', linewidth=2, alpha=0.7)

    # Midpoints and their labels
    for name, point in zip(['B', 'D', 'F'], [B, D, F]):
        ax.plot(*point, 'ko', markersize=4)
        ax.text(*point + [0.02, 0.01], name, fontsize=9)

    ax.set_xlim(-0.3, 1.3)
    ax.set_ylim(-0.2, 1.2)
    ax.set_aspect('equal')
    ax.grid(True)
    ax.set_title(f'Philosophical Triangle — Mode: “{mode}”')
    plt.show()

# Interactive interface
interact(plot_triangle,
         lambda_T=FloatSlider(value=0.33, min=0.0, max=1.0, step=0.01, description='λ_T (Creativity)'),
         lambda_M=FloatSlider(value=0.33, min=0.0, max=1.0, step=0.01, description='λ_M (Mastery)'),
         mode=Dropdown(options=['medians', 'bisectors', 'all'], value='all', description='Mode:'));
		 